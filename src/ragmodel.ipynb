{
 "cells": [
  {
   "cell_type": "code",
   "execution_count": null,
   "id": "ddd583cf",
   "metadata": {},
   "outputs": [],
   "source": [
    "#This will be with the rag model"
   ]
  }
 ],
 "metadata": {
  "language_info": {
   "name": "python"
  }
 },
 "nbformat": 4,
 "nbformat_minor": 5
}

{
  "cells": [
    {
      "cell_type": "markdown",
      "source": [
        "# Load dataset"
      ],
      "metadata": {
        "id": "zL-kyonLpnd6"
      },
      "id": "zL-kyonLpnd6"
    },
    {
      "cell_type": "code",
      "execution_count": null,
      "id": "a4ff2a2b",
      "metadata": {
        "id": "a4ff2a2b"
      },
      "outputs": [],
      "source": [
        "!pip install datasets"
      ]
    },
    {
      "cell_type": "code",
      "execution_count": null,
      "id": "bf14cdae",
      "metadata": {
        "id": "bf14cdae"
      },
      "outputs": [],
      "source": [
        "from datasets import load_dataset\n",
        "dataset = load_dataset(\"openlifescienceai/medmcqa\")"
      ]
    },
    {
      "cell_type": "code",
      "execution_count": null,
      "id": "abef8a77",
      "metadata": {
        "id": "abef8a77"
      },
      "outputs": [],
      "source": [
        "from datasets import concatenate_datasets\n",
        "\n",
        "full_dataset = concatenate_datasets([\n",
        "    dataset['train'],\n",
        "    dataset['validation'],\n",
        "    dataset['test']\n",
        "])\n",
        "\n",
        "df = full_dataset.to_pandas()\n",
        "\n",
        "print(df.head())"
      ]
    },
    {
      "cell_type": "markdown",
      "source": [
        "# Clean dataset"
      ],
      "metadata": {
        "id": "HYNtJJMLpw4w"
      },
      "id": "HYNtJJMLpw4w"
    },
    {
      "cell_type": "code",
      "source": [
        "# Filter for subject_name == Anaesthesia\n",
        "df = df[df['subject_name'] == 'Anaesthesia']\n",
        "print(df.head())"
      ],
      "metadata": {
        "id": "swVhX6dij6gY"
      },
      "id": "swVhX6dij6gY",
      "execution_count": null,
      "outputs": []
    },
    {
      "cell_type": "code",
      "metadata": {
        "id": "064e09de"
      },
      "source": [
        "# Extract the required columns\n",
        "anaesthesia_questions = df[['question', 'opa', 'opb', 'opc', 'opd', 'cop']]\n",
        "\n",
        "print(anaesthesia_questions.head())"
      ],
      "id": "064e09de",
      "execution_count": null,
      "outputs": []
    },
    {
      "cell_type": "markdown",
      "source": [
        "# Setup Gemini model"
      ],
      "metadata": {
        "id": "tXq_RrXAqJYd"
      },
      "id": "tXq_RrXAqJYd"
    },
    {
      "cell_type": "code",
      "source": [
        "# hello me do this later"
      ],
      "metadata": {
        "id": "c_aI-p7kqOTT"
      },
      "id": "c_aI-p7kqOTT",
      "execution_count": null,
      "outputs": []
    }
  ],
  "metadata": {
    "kernelspec": {
      "display_name": "base",
      "language": "python",
      "name": "python3"
    },
    "language_info": {
      "codemirror_mode": {
        "name": "ipython",
        "version": 3
      },
      "file_extension": ".py",
      "mimetype": "text/x-python",
      "name": "python",
      "nbconvert_exporter": "python",
      "pygments_lexer": "ipython3",
      "version": "3.9.7"
    },
    "colab": {
      "provenance": []
    }
  },
  "nbformat": 4,
  "nbformat_minor": 5
}